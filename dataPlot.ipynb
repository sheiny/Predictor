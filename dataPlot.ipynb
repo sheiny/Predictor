{
 "cells": [
  {
   "cell_type": "markdown",
   "id": "d6e3a2b8",
   "metadata": {},
   "source": [
    "# Reads"
   ]
  },
  {
   "cell_type": "code",
   "execution_count": null,
   "id": "d0f04caf",
   "metadata": {},
   "outputs": [],
   "source": [
    "https://machinelearningmastery.com/tour-of-evaluation-metrics-for-imbalanced-classification/\n",
    "https://neptune.ai/blog/cross-validation-in-machine-learning-how-to-do-it-right\n",
    "\n",
    "a figura com drvs justifica muito bem a escolha de 80% para teste\n",
    "\n",
    "\n",
    "fazer eval em todos dfs de 80%, adicionar epoch e indices etc para depois pegar caso necessario\n",
    "pegar melhor modelo olhando o loss e aplicar pra todos circuitos de teste fcn, ou fcn_large\n",
    "\n",
    "\n",
    "\n",
    "Figura:\n",
    "como alguem faria para usar o preditor\n",
    "como alguem faria para testar com outra tecnologia o preditor\n",
    "explicar que ele he independente de tecnologia\n",
    "fluxograma mostrando a parte do ORDF e a parte do INNOVUS para geracao dos benchamrks\n",
    "dps para geracao dos dados de treino e inferencia.\n",
    "Explicar o problema dos dados, não é só uma questão de armazenamento, mas a leitura deles\n",
    "tbm seria muito demorada inviabilizando o treino do modelo.\n",
    "justificar o porque de pegar soh short"
   ]
  },
  {
   "cell_type": "markdown",
   "id": "2eb56f37",
   "metadata": {},
   "source": [
    "# Imports"
   ]
  },
  {
   "cell_type": "code",
   "execution_count": 1,
   "id": "9021c96c",
   "metadata": {
    "scrolled": true
   },
   "outputs": [],
   "source": [
    "import math\n",
    "import matplotlib\n",
    "import matplotlib.pyplot as plt\n",
    "import numpy as np\n",
    "import pandas as pd\n",
    "import pickle\n",
    "import random\n",
    "import shutil\n",
    "import os\n",
    "import time\n",
    "import re\n",
    "import subprocess\n",
    "from sklearn.metrics import confusion_matrix\n",
    "import gc"
   ]
  },
  {
   "cell_type": "code",
   "execution_count": 2,
   "id": "44e65aaa-d80a-426f-bfb3-ee365dadf140",
   "metadata": {},
   "outputs": [],
   "source": [
    "# FCN0 = [[('bp_multi', 82), ('swerv', 84), ('bp_multi', 87), ('bp_multi', 86)],\n",
    "# FCN1 = [('aes', 88), ('bp_be', 77), ('bp_be', 76), ('bp_multi', 85)],\n",
    "# FCN2 = [('aes', 76), ('aes', 80), ('aes', 73), ('bp_multi', 90)],\n",
    "# FCN3 = [('aes', 87), ('bp_multi', 84), ('ibex', 90), ('aes', 89)],\n",
    "# FCN4 = [('tinyRocket', 90), ('swerv', 82), ('bp_be', 80), ('bp_be', 75)]]\n",
    "\n",
    "def getMetrics(tp, tn, fp, fn):\n",
    "  specificity = tn/(fp+tn) # True Negative Rate (TNR), is also known as Specificity or Selectivity.\n",
    "  sensitivity = tp/(tp+fn) # True Positive Rate (TPR), also known as Sensitivity, Recall, or the Hit Rate\n",
    "  prevalence = ((tp+fn)/(tp+fn+fp+tn))\n",
    "  accuracy = (tp+tn)/(tp+tn+fp+fn)\n",
    "  # npv = tn/(fn+tn) # Negative Predictive Value (NPV)\n",
    "  # fpr = fp/(tn+fp) # False Positive Rate (FPR), also known as the Fall-Out or Type I Error Rate or False Alarm Rate\n",
    "  # fnr = fn / (fn + tp)# False Negative Rate (FNR), It's also known as the Miss Rate or Type II Error Rate.\n",
    "\n",
    "  sqrt = math.sqrt((tp+fp)*(tp+fn)*(tn+fp)*(tn+fn))\n",
    "  mcc = 0\n",
    "  if sqrt != 0:\n",
    "    mcc = ((tp * tn) - (fp * fn))/sqrt\n",
    "\n",
    "  precision = tp/(tp + fp)# Positive Predictive Value (PPV), also known as Precision.\n",
    "  beta=10\n",
    "  fbeta = ((1 + pow(beta, 2)) * precision * sensitivity) / (pow(beta, 2) * precision + sensitivity)\n",
    "  f1score = (2 * (precision * sensitivity)) / (precision + sensitivity)\n",
    "  return {'tp':tp, 'tn':tn, 'fp':fp, 'fn':fn,\n",
    "          'prevalence':prevalence,\n",
    "          'specificity':specificity,\n",
    "          'sensitivity':sensitivity,\n",
    "          'precision':precision,\n",
    "          'gmean':math.sqrt(sensitivity * specificity),\n",
    "          'f1score':f1score,\n",
    "          'fscore':fbeta,\n",
    "          'accuracy':accuracy,\n",
    "          'mcc':mcc}"
   ]
  },
  {
   "cell_type": "code",
   "execution_count": null,
   "id": "088a2bfb-da44-4199-b295-0b55044b0545",
   "metadata": {},
   "outputs": [],
   "source": [
    "# ICECS work\n",
    "tp=531234\n",
    "fp=10892\n",
    "tn=868532\n",
    "fn=38998\n",
    "getMetrics(tp, tn, fp, fn)"
   ]
  },
  {
   "cell_type": "markdown",
   "id": "fe9fc59e",
   "metadata": {},
   "source": [
    "# Cross Validation Result"
   ]
  },
  {
   "cell_type": "code",
   "execution_count": null,
   "id": "98856eef",
   "metadata": {},
   "outputs": [],
   "source": [
    "crossValPath = '/home/sheiny/workspace/Predictor/results/FCNCV/'\n",
    "# crossValPath = '/home/sheiny/workspace/Predictor/results/FCNModel10CV/'\n",
    "pkls = [crossValPath+x for x in os.listdir(crossValPath) if ('.pkl' in x and 'CV' in x)]\n",
    "pkls.sort(key=lambda x:int(re.search(r\"\\d+(\\.\\d+)?\", x[x.rfind('/'):]).group(0)))\n",
    "\n",
    "cvDicts = []\n",
    "for group in range(len(pkls)):\n",
    "  df = pickle.load(open(pkls[group], 'rb'))\n",
    "  runs = {(row['Design'], row['Density']) for index, row in df.iterrows()}\n",
    "  for run in runs:\n",
    "    tempDf = df.loc[(df['Design'] == run[0]) & (df['Density'] == run[1])]\n",
    "    metrics = getMetrics(sum(tempDf['tp']), sum(tempDf['tn']), sum(tempDf['fp']), sum(tempDf['fn']))\n",
    "    cvDicts.append({'Group':str(int(group)),\n",
    "                    'Design':run[0]+' '+str(run[1]),\n",
    "                    'TP':metrics['tp'],\n",
    "                    'TN':metrics['tn'],\n",
    "                    'FP':metrics['fp'],\n",
    "                    'FN':metrics['fn'],\n",
    "                    'Prevalence %':metrics['prevalence']*100,\n",
    "                    'Specificity %':metrics['specificity']*100,\n",
    "                    'Sensitivity %':metrics['sensitivity']*100,\n",
    "                    'G-Mean %':math.sqrt(metrics['sensitivity'] * metrics['specificity'])*100,\n",
    "                    # 'f1-score':metrics['f1score'],\n",
    "                    'F$_\\beta$-score*':metrics['fscore'],\n",
    "                    # 'precision':metrics['precision'],\n",
    "                    'Accuracy %':metrics['accuracy']*100,\n",
    "                    'MCC [-1:1]':metrics['mcc']})\n",
    "cvDf = pd.DataFrame.from_dict(cvDicts)\n",
    "# cvDf.loc['mean'] = cvDf.mean(numeric_only=True)\n",
    "cvDf\n",
    "# cvDf.to_csv('results/CrossValidation.csv', index=False)"
   ]
  },
  {
   "cell_type": "code",
   "execution_count": null,
   "id": "7dafcd09-7db9-480d-bcad-5fe9f96b49cb",
   "metadata": {},
   "outputs": [],
   "source": [
    "# CV cross-validation Confusion Matrix\n",
    "tp = int(sum(cvDf['TP']))\n",
    "tn = int(sum(cvDf['TN']))\n",
    "fp = int(sum(cvDf['FP']))\n",
    "fn = int(sum(cvDf['FN']))\n",
    "\n",
    "cm = np.array([[tn, fp],\n",
    "               [fn, tp]])\n",
    "\n",
    "# Define class labels (binary classification)\n",
    "class_labels = ['Negative', 'Positive']\n",
    "\n",
    "# Create a figure and axis for the plot\n",
    "fig, ax = plt.subplots()\n",
    "im = ax.imshow(cm, interpolation='nearest', cmap=plt.cm.Blues)\n",
    "\n",
    "# Show all ticks and label them with their respective class names\n",
    "ax.set(xticks=np.arange(cm.shape[1]),\n",
    "       yticks=np.arange(cm.shape[0]),\n",
    "       xticklabels=class_labels, yticklabels=class_labels,\n",
    "       title='5-Fold Cross-Validation Confusion Matrix',\n",
    "       ylabel='True Label',\n",
    "       xlabel='Predicted Label')\n",
    "\n",
    "# Add color bar\n",
    "plt.colorbar(im)\n",
    "\n",
    "# Annotate the confusion matrix cells with the respective counts\n",
    "thresh = cm.max() / 2.\n",
    "for i in range(cm.shape[0]):\n",
    "    for j in range(cm.shape[1]):\n",
    "        ax.text(j, i, format(cm[i, j], 'd'),\n",
    "                ha=\"center\", va=\"center\",\n",
    "                color=\"white\" if cm[i, j] > thresh else \"black\")\n",
    "\n",
    "# Display the plot\n",
    "plt.show()\n",
    "# plt.savefig('ConfusionMatrix.pdf')"
   ]
  },
  {
   "cell_type": "markdown",
   "id": "63d08714",
   "metadata": {},
   "source": [
    "# Prediction Results"
   ]
  },
  {
   "cell_type": "code",
   "execution_count": null,
   "id": "7b5c3d81",
   "metadata": {},
   "outputs": [],
   "source": [
    "pkl = '/home/sheiny/workspace/Predictor/results/PredictionExperiment/predictRuns.pkl'\n",
    "df = pickle.load(open(pkl, 'rb'))\n",
    "\n",
    "circuitResultDict = []\n",
    "runs = {(row['Design'], row['Density']) for index, row in df.iterrows()}\n",
    "for run in runs:\n",
    "  tempDf = df.loc[(df['Design'] == run[0]) & (df['Density'] == run[1])]\n",
    "  metrics = getMetrics(sum(tempDf['tp']), sum(tempDf['tn']), sum(tempDf['fp']), sum(tempDf['fn']))\n",
    "  tpr = metrics['tp']/(metrics['tp']+metrics['fn'])\n",
    "\n",
    "  PosRatio = ((metrics['tp']+metrics['fn'])/(metrics['tp']+metrics['fn']+metrics['fp']+metrics['fn']))*100\n",
    "  circuitResultDict.append({'Design':run[0]+str(run[1]),\n",
    "                            'tp':str(metrics['tp'])+' ('+str(int(tpr*100))+'%)', 'tn':int(metrics['tn']),\n",
    "                            'fp':int(metrics['fp']), 'fn':int(metrics['fn']),\n",
    "                            'PosRatio%':PosRatio,\n",
    "                            'spc %':metrics['specificity']*100, 'acc %':metrics['accuracy']*100, 'MCC[-1:1]':metrics['mcc']})\n",
    "resultDf = pd.DataFrame.from_dict(circuitResultDict)\n",
    "resultDf.set_index('Design', inplace=True)\n",
    "resultDf.to_csv('results/predictionResult.csv')"
   ]
  },
  {
   "cell_type": "markdown",
   "id": "710e3747",
   "metadata": {},
   "source": [
    "# Plot DRVs and Predictions"
   ]
  },
  {
   "cell_type": "code",
   "execution_count": null,
   "id": "04e12dc0",
   "metadata": {},
   "outputs": [],
   "source": [
    "# design = '/home/sheiny/workspace/data/WholeCSV/aes'\n",
    "# design = '/home/sheiny/workspace/data/WholeCSV/bp_be/'\n",
    "# design = '/home/sheiny/workspace/data/bp_be/'\n",
    "design = '/home/sheiny/workspace/data/WholeCSV/tinyRocket/'\n",
    "# design = '/home/sheiny/workspace/data/WholeCSV/tinyRocket/'\n",
    "# modelPath = 'results/fcn4/model_14.pkl'\n",
    "# modelPath = 'results/cnn4/model_13.pkl'\n",
    "targetDensity = '90'\n",
    "\n",
    "modelPath = 'results/fcnNoAugment4/model_14.pkl'\n",
    "# outPath = 'predictionscnn/aes88_'\n",
    "\n",
    "\n",
    "\n",
    "def writePredictionFile(outFile, nodesToWrite):\n",
    "  with open(outFile, 'w') as fp:\n",
    "    for node in nodesToWrite:\n",
    "      fp.write(str(node)+'\\n')\n",
    "  fp.close()\n",
    "\n",
    "def predict(model, pkl):\n",
    "  testDf = pd.read_pickle(pkl, compression='zip')\n",
    "  labels = testDf.pop(testDf.columns.values[-1])\n",
    "  nodeIDs = testDf.pop(testDf.columns.values[0])#drop first column which contains the nodeIds\n",
    "  testHyperImages = np.array(testDf).reshape(len(testDf),22,33,33)\n",
    "  predictions = model.predict(testHyperImages)\n",
    "  del testDf\n",
    "  gc.collect()\n",
    "  return nodeIDs, predictions, labels\n",
    "\n",
    "model = pickle.load(open(modelPath, 'rb'))\n",
    "# pkls = [design+x for x in os.listdir(design) if '.pkl' in x]\n",
    "pkls = [design+x for x in os.listdir(design) if '.pkl' in x and targetDensity in x]\n",
    "pkls.sort(key = lambda x : int(x[x.rfind('_')+1:x.find('.')]))\n",
    "results = []\n",
    "for x in range(len(pkls)):\n",
    "  print('Running:', x, ' out of ', len(pkls)-1)\n",
    "  results.append(predict(model, pkls[x]))\n",
    "\n",
    "tp = []\n",
    "tn = []\n",
    "fp = []\n",
    "fn = []\n",
    "for x, y, z in results:\n",
    "  nodeIDs = [int(n) for n in x]\n",
    "  predictions = y > 0.5\n",
    "  for id, prediction, actual in zip(nodeIDs, predictions, z):\n",
    "    if prediction == actual and actual == True:\n",
    "      tp.append(id)\n",
    "    elif prediction == actual and actual == False:\n",
    "      tn.append(id)\n",
    "    elif prediction != actual and actual == True:\n",
    "      fn.append(id)\n",
    "    else:\n",
    "      fp.append(id)\n",
    "\n",
    "# writePredictionFile(outPath+'tp.txt', tp)\n",
    "# writePredictionFile(outPath+'tn.txt', tn)\n",
    "# writePredictionFile(outPath+'fp.txt', fp)\n",
    "# writePredictionFile(outPath+'fn.txt', fn)"
   ]
  },
  {
   "cell_type": "code",
   "execution_count": null,
   "id": "d4fa238d-b002-4137-beef-bf508d03f067",
   "metadata": {},
   "outputs": [],
   "source": [
    "getMetrics(len(tp), len(tn), len(fp), len(fn))"
   ]
  },
  {
   "cell_type": "code",
   "execution_count": null,
   "id": "3d528014-6c61-4542-a03d-088c6d36f195",
   "metadata": {},
   "outputs": [],
   "source": [
    "print('tp', len(tp), 'tn', len(tn), 'fp', len(fp), 'fn', len(fn))"
   ]
  },
  {
   "cell_type": "markdown",
   "id": "6fa8f129-fd71-44e3-834e-7518f4376c14",
   "metadata": {},
   "source": [
    "# Threshold"
   ]
  },
  {
   "cell_type": "code",
   "execution_count": null,
   "id": "72bdfbbe-f800-48ee-84e6-36070793eb14",
   "metadata": {},
   "outputs": [],
   "source": [
    "y_scores = [r[0] for r in results[0][1]]\n",
    "for r in results[1][1]:\n",
    "  y_scores.append(r[0])\n",
    "y_true = [r for r in results[0][2]]\n",
    "for r in results[1][2]:\n",
    "  y_true.append(r)\n",
    "\n",
    "prediction = [int(p > 0.5) for p in y_scores]"
   ]
  },
  {
   "cell_type": "code",
   "execution_count": null,
   "id": "b7dd5b3c-8965-4b31-b0b7-df792398d6b5",
   "metadata": {},
   "outputs": [],
   "source": [
    "# Convert lists to NumPy arrays\n",
    "array1 = np.array(y_scores)\n",
    "array2 = np.array(y_true)\n",
    "array3 = np.array(prediction)\n",
    "\n",
    "# Horizontal concatenate the arrays\n",
    "out = np.hstack((array1[:, np.newaxis], array2[:, np.newaxis], array3[:, np.newaxis]))"
   ]
  },
  {
   "cell_type": "code",
   "execution_count": null,
   "id": "168c00b3-5782-4b77-b344-c359ece18dc3",
   "metadata": {},
   "outputs": [],
   "source": [
    "out.shape"
   ]
  },
  {
   "cell_type": "code",
   "execution_count": null,
   "id": "6950485b-4b60-45a1-83e2-f7211986fd4f",
   "metadata": {},
   "outputs": [],
   "source": [
    "print(out[0])"
   ]
  },
  {
   "cell_type": "code",
   "execution_count": null,
   "id": "d7052b35-9e62-489a-8387-cdedae8d7cef",
   "metadata": {},
   "outputs": [],
   "source": [
    "# Use numpy.savetxt() to save the ndarray to a CSV file\n",
    "np.savetxt('threshold.csv', out, header=','.join(['Threshold', 'ActualLabel', 'ClassifiedLabel']), delimiter=',')"
   ]
  },
  {
   "cell_type": "markdown",
   "id": "33213b62",
   "metadata": {},
   "source": [
    "# Roc Curve for Aes88"
   ]
  },
  {
   "cell_type": "code",
   "execution_count": null,
   "id": "32d0492c",
   "metadata": {},
   "outputs": [],
   "source": [
    "from sklearn.metrics import roc_curve, auc"
   ]
  },
  {
   "cell_type": "code",
   "execution_count": null,
   "id": "e3964b4d",
   "metadata": {},
   "outputs": [],
   "source": [
    "y_scores = np.concatenate((results[0][1], results[1][1]))\n",
    "y_true = np.concatenate((results[0][2], results[1][2]))\n",
    "\n",
    "fpr, tpr, thresholds = roc_curve(y_true, y_scores)\n",
    "roc_auc = auc(fpr, tpr)\n",
    "print(\"AUC-ROC:\", roc_auc)"
   ]
  },
  {
   "cell_type": "code",
   "execution_count": null,
   "id": "f7217fc6",
   "metadata": {},
   "outputs": [],
   "source": [
    "# Plot the ROC curve\n",
    "# design = 'TinyRocket90'\n",
    "design = 'Swerv82'\n",
    "model = 'fcnNoAugment4'\n",
    "\n",
    "plt.figure(figsize=(8, 6))\n",
    "plt.plot(fpr, tpr, color='darkorange', lw=2, label='ROC curve (area = {:.2f})'.format(roc_auc))\n",
    "plt.plot([0, 1], [0, 1], color='navy', lw=2, linestyle='--')\n",
    "plt.xlim([0.0, 1.0])\n",
    "plt.ylim([0.0, 1.05])\n",
    "plt.xlabel('False Positive Rate')\n",
    "plt.ylabel('True Positive Rate')\n",
    "plt.title('Receiver Operating Characteristic(ROC) Curve for '+design)\n",
    "plt.legend(loc='lower right')\n",
    "# plt.show()\n",
    "plt.savefig('predictions/NewROC_'+model+'_'+design+'.pdf')"
   ]
  },
  {
   "cell_type": "markdown",
   "id": "ea6d418c",
   "metadata": {},
   "source": [
    "# Load BenchmarkInfo"
   ]
  },
  {
   "cell_type": "code",
   "execution_count": 3,
   "id": "79266d9f",
   "metadata": {},
   "outputs": [],
   "source": [
    "csvPath = '/home/sheiny/workspace/data/CSVS/'\n",
    "df = pd.read_pickle('benchmarkInfo/ufscbenchmark.pkl', compression='zip')\n",
    "df = df.loc[df['Design'] != 'bp']\n",
    "df = df.loc[df['Design'] != 'gcd']\n",
    "\n",
    "df = df.loc[df['FDRVTotal'] == 0]\n",
    "df.reset_index(inplace=True, drop=True)\n",
    "inexistingFiles = []\n",
    "for index in range(len(df)):\n",
    "  design = df['Design'][index]\n",
    "  density = df['Density'][index]\n",
    "  if os.path.exists(csvPath+design+'/cts_'+design+'_'+str(density)+'.pkl') == False:\n",
    "    inexistingFiles.append(index)\n",
    "df.drop(inexistingFiles, inplace=True)\n",
    "df.reset_index(inplace=True, drop=True)\n",
    "df.sort_values('IDRVShort', ascending=False, inplace=True, ignore_index=True)"
   ]
  },
  {
   "cell_type": "markdown",
   "id": "17eea808-9c78-46ce-8dab-90c5009f00d6",
   "metadata": {},
   "source": [
    "# Peason Correlation Analysis"
   ]
  },
  {
   "cell_type": "code",
   "execution_count": null,
   "id": "588aee35-e1e8-4ad3-8fd1-f5a158ed91ee",
   "metadata": {},
   "outputs": [],
   "source": [
    "def CalculatePearsonCorrelation(df, xlabel, ylabel):\n",
    "  # Calculate Pearson correlatioDRVsn coefficient\n",
    "  correlation = df[xlabel].corr(df[ylabel])\n",
    "  print(f\"Pearson Correlation Coefficient: {correlation}\")\n",
    "  # Interpretation\n",
    "  if abs(correlation) < 0.1:\n",
    "    print(\"There is a very weak or no correlation between the two classes.\")\n",
    "  elif abs(correlation) < 0.3:\n",
    "    print(\"There is a weak correlation between the two classes.\")\n",
    "  elif abs(correlation) < 0.5:\n",
    "    print(\"There is a moderate correlation between the two classes.\")\n",
    "  else:\n",
    "    print(\"There is a strong correlation between the two classes.\")\n",
    "  return correlation\n",
    "\n",
    "def ScatterPlot(df, x, xlabel, xlegend, y, ylabel, ylegend, correlation, xlog=False, ylog=False, outputPath=None):\n",
    "  # Visualization\n",
    "  sns.scatterplot(x=x, y=y, data=df)\n",
    "  if (xlog):\n",
    "    xlegend += ' (log scale)'\n",
    "    plt.xscale('log')\n",
    "  if (ylog):\n",
    "    ylegend += ' (log scale)'\n",
    "    plt.yscale('log')\n",
    "\n",
    "  xline = [xl for xl in range(0, max(max(df[x]), max(df[y])))]\n",
    "  plt.plot(xline, xline, color='red', label='Perfect Correlation Line')\n",
    "\n",
    "  plt.ylabel(ylegend)\n",
    "  plt.xlabel(xlegend)\n",
    "  plt.title(\"Scatter plot of \"+xlabel+\" X \"+ylabel+\"\\n(Pearson Correlation Coefficient: \"+str(correlation.round(2))+\")\")\n",
    "  plt.tight_layout()\n",
    "  if (outputPath != None):\n",
    "    plt.savefig(outputPath)\n",
    "  plt.show()"
   ]
  },
  {
   "cell_type": "code",
   "execution_count": null,
   "id": "1beef208-6bd7-4853-bf44-747575018454",
   "metadata": {},
   "outputs": [],
   "source": [
    "# First DR #Short DRVs x Remaining Runtime DR\n",
    "xlabel = 'IDRVShort'\n",
    "ylabel = 'RuntimeFDR'\n",
    "\n",
    "newXlabel = 'First DR #Short DRVs'\n",
    "newYlabel = 'Remaining Runtime DR'\n",
    "\n",
    "xlegend = \"Number of First DR Short DRVs\"\n",
    "ylegend = \"Remaining DR Runtime in seconds\"\n",
    "\n",
    "saveScatterPlotPath = 'CorrelationRuntimeDRV.pdf'\n",
    "\n",
    "correlation = CalculatePearsonCorrelation(df[[xlabel, ylabel]], xlabel, ylabel)\n",
    "ScatterPlot(df, xlabel, newXlabel, xlegend, ylabel, newYlabel, ylegend, correlation, True, True, saveScatterPlotPath)"
   ]
  },
  {
   "cell_type": "code",
   "execution_count": null,
   "id": "b11f0e34-c863-4d4b-85f0-8252b2ec4df2",
   "metadata": {},
   "outputs": [],
   "source": [
    "# Unrouted Circuits: first DR DRVs x Final DR DRVs\n",
    "df = pd.read_pickle('benchmarkInfo/NEWufscbenchmark.pkl', compression='zip')\n",
    "df = df[df['FDRVTotal'] != 0]\n",
    "print('Got '+str(df.shape[0])+' unrouted designs')\n",
    "\n",
    "# Create new DataFrame with only the specified columns\n",
    "columns_to_keep = ['IDRVTotal', 'FDRVTotal']\n",
    "df = df[columns_to_keep]\n",
    "\n",
    "xlabel = 'IDRVTotal'\n",
    "ylabel = 'FDRVTotal'\n",
    "\n",
    "newXlabel = 'First DR #DRVs'\n",
    "newYlabel = 'Final DR #DRVs'\n",
    "\n",
    "xlegend = \"Number of First DR DRVs\"\n",
    "ylegend = \"Number of Final DR DRVs\"\n",
    "\n",
    "saveScatterPlotPath = 'Correlation1DRVFDRV.pdf'\n",
    "\n",
    "correlation = CalculatePearsonCorrelation(df[[xlabel, ylabel]], xlabel, ylabel)\n",
    "ScatterPlot(df, xlabel, newXlabel, xlegend, ylabel, newYlabel, ylegend, correlation, True, True, saveScatterPlotPath)"
   ]
  },
  {
   "cell_type": "markdown",
   "id": "09c73043",
   "metadata": {},
   "source": [
    "# Benchmark Info Results"
   ]
  },
  {
   "cell_type": "code",
   "execution_count": null,
   "id": "4746e81d",
   "metadata": {},
   "outputs": [],
   "source": [
    "# Benchmark Info\n",
    "df2 = df.loc[df['FDRVTotal'] == 0].copy()\n",
    "circuits = set(df2['Design'])\n",
    "benchmarkInfo = []\n",
    "for c in circuits:\n",
    "  dfCircuit = df2.loc[df['Design'] == c]\n",
    "  designCount = len(dfCircuit)\n",
    "  avgComponent = dfCircuit['COMPONENTS'].mean()\n",
    "  avgNets = dfCircuit['NETS'].mean()\n",
    "  avgPins = dfCircuit['PINS'].mean()\n",
    "  avgBlkgs = dfCircuit['BLOCKAGES'].mean()\n",
    "  benchmarkInfo.append({'Design':c, 'Design Count':int(designCount),\n",
    "                        'Components':int(avgComponent), 'Nets':int(avgNets),\n",
    "                        'Pins':int(avgPins), 'Blockages':int(avgBlkgs)})\n",
    "\n",
    "benchmarkDfInfo = pd.DataFrame.from_dict(benchmarkInfo)\n",
    "benchmarkDfInfo.sort_values('Components', ascending=False, inplace=True)\n",
    "benchmarkDfInfo.loc['mean'] = benchmarkDfInfo.mean(numeric_only=True)\n",
    "benchmarkDfInfo\n",
    "# benchmarkDfInfo.to_csv('benchmarkInfo/OpenCores.csv', index=False)"
   ]
  },
  {
   "cell_type": "code",
   "execution_count": null,
   "id": "e98ac3c8-e1f9-48b6-8d98-3a06042cb41f",
   "metadata": {},
   "outputs": [],
   "source": [
    "# Our total prevalence\n",
    "df2 = df.loc[df['FDRVTotal'] == 0].copy()\n",
    "totalNodes = sum(df['TotalSizeGrid'])\n",
    "totalPos = sum(df['IDRVShort'])\n",
    "prevalence = (totalPos/totalNodes)*100\n",
    "print(prevalence)"
   ]
  },
  {
   "cell_type": "code",
   "execution_count": null,
   "id": "5445ee2c",
   "metadata": {},
   "outputs": [],
   "source": [
    "# Undersampling result\n",
    "df2 = df.loc[df['FDRVTotal'] == 0].copy()\n",
    "circuits = set(df2['Design'])\n",
    "benchmarkInfo = []\n",
    "for c in circuits:\n",
    "  dfCircuit = df2.loc[df2['Design'] == c]\n",
    "  avgTotalGridSize = dfCircuit['TotalSizeGrid'].mean()\n",
    "  reduction = 100-(1000000/avgTotalGridSize)\n",
    "  avgPosSamples = dfCircuit['Positives'].mean()\n",
    "  stdPos = dfCircuit['Positives'].std()\n",
    "  afterPosRatio = (avgPosSamples/10000)*100\n",
    "  benchmarkInfo.append({'Design':c,\n",
    "                        'Original Grid Size':int(avgTotalGridSize),\n",
    "                        'New Size':'10k',\n",
    "                        'Size Reduction \\%':reduction,\n",
    "                        'Positive Samples (Std Dev)':str(int(avgPosSamples))+' ('+str(int(stdPos))+')',\n",
    "                        'Undersample Positive \\%':afterPosRatio})\n",
    "\n",
    "benchmarkDfInfo = pd.DataFrame.from_dict(benchmarkInfo)\n",
    "benchmarkDfInfo.sort_values('Original Grid Size', ascending=False, inplace=True)\n",
    "benchmarkDfInfo\n",
    "# benchmarkDfInfo.to_csv('benchmarkInfo/Undersampling.csv', index=False)"
   ]
  },
  {
   "cell_type": "markdown",
   "id": "551534b9-88bc-40dd-8a66-0ed0938738a3",
   "metadata": {},
   "source": [
    "# Synthesis Runtime Analysis"
   ]
  },
  {
   "cell_type": "code",
   "execution_count": 24,
   "id": "42c01767",
   "metadata": {},
   "outputs": [
    {
     "name": "stderr",
     "output_type": "stream",
     "text": [
      "/tmp/ipykernel_28161/2457059243.py:26: FutureWarning: Series.__getitem__ treating keys as positions is deprecated. In a future version, integer keys will always be treated as labels (consistent with DataFrame behavior). To access a value by position, use `ser.iloc[pos]`\n",
      "  ax.text(x, 0, f'{int(drvs[i])}', ha='center', va='bottom', bbox=dict(facecolor='white', alpha=0.5))\n"
     ]
    },
    {
     "data": {
      "image/png": "[encoded data removed]",
      "text/plain": [
       "<Figure size 640x480 with 1 Axes>"
      ]
     },
     "metadata": {},
     "output_type": "display_data"
    }
   ],
   "source": [
    "# Bar plot Routing Runtime Break Down\n",
    "normalize = False\n",
    "numCircuits = 10\n",
    "dfRuntime = df[0:numCircuits].copy()\n",
    "idx = [dfRuntime.loc[x, 'Design']+'_'+str(dfRuntime.loc[x, 'Density']) for x in range(numCircuits)]\n",
    "dfRuntime['RuntimeDR'] = dfRuntime['RuntimeIDR'] + dfRuntime['RuntimeFDR']\n",
    "dfRuntime['Benchmark'] = idx\n",
    "dfRuntime = dfRuntime.set_index('Benchmark')\n",
    "\n",
    "\n",
    "\n",
    "if normalize:\n",
    "  dfRuntime['TotalRuntime'] = dfRuntime['RuntimeIDR']+dfRuntime['RuntimeFDR']\n",
    "  dfRuntime['RuntimeIDR'] = dfRuntime['RuntimeIDR']/dfRuntime['TotalRuntime']\n",
    "  dfRuntime['RuntimeFDR'] = dfRuntime['RuntimeFDR']/dfRuntime['TotalRuntime']\n",
    "\n",
    "fig, ax = plt.subplots()\n",
    "dfRuntime[['RuntimeIDR', 'RuntimeFDR']].plot(kind='bar', stacked=True, ax=ax)\n",
    "drvs = dfRuntime['IDRVShort']\n",
    "\n",
    "for i in range(numCircuits):\n",
    "  bar = ax.patches[i]\n",
    "  x = bar.get_x() + bar.get_width() / 2\n",
    "  y = bar.get_height()\n",
    "  # Place the text at the top of the bar segment\n",
    "  ax.text(x, 0, f'{int(drvs[i])}', ha='center', va='bottom', bbox=dict(facecolor='white', alpha=0.5))\n",
    "\n",
    "ylabel = \"Normalized Runtime %\" if normalize else \"Runtime (seconds)\"\n",
    "ax.set_ylabel(ylabel)\n",
    "\n",
    "ax.set_xlabel(\"Design names and their target placement densities\")\n",
    "plt.xticks(rotation=45)\n",
    "\n",
    "if normalize:\n",
    "  plt.ylim(top=ax.get_ylim()[1] * 1.14)\n",
    "  plt.yticks([x*2/10 for x in range(6)], [x*20 for x in range(6)])\n",
    "\n",
    "ax.set_title('Detailed Routing Runtime Breakdown')\n",
    "ax.legend(['First DR iteration', 'Remaining DR iterations'], loc='upper right')\n",
    "# plt.show()\n",
    "name = \"Norm\" if normalize else \"\"\n",
    "plt.savefig('3-RoutingRuntimeBreakdown'+name+'.pdf', bbox_inches=\"tight\")"
   ]
  },
  {
   "cell_type": "code",
   "execution_count": null,
   "id": "c70f7a26-4b75-4a66-9dde-dc29ced8eec7",
   "metadata": {},
   "outputs": [],
   "source": [
    "runtimesStacked = {'Global Routing (max)':4.3,\n",
    "                   'Global Routing (avg)':2.1,\n",
    "                   'Detailed Routing (avg)':28.5,\n",
    "                   'Detailed Routing (max)':96.4}\n",
    "runtimes = runtimesStacked\n",
    "runtimeDF = pd.DataFrame(runtimes, index=[0, 1])\n",
    "runtimeDF.iloc[0] = [runtimes['Global Routing (max)'], runtimes['Global Routing (avg)'], 0, 0]\n",
    "runtimeDF.iloc[1] = [0, 0, runtimes['Detailed Routing (avg)'], runtimes['Detailed Routing (max)']]\n",
    "\n",
    "\n",
    "ax = runtimeDF.plot.bar(stacked=False, color=['#e06666ff', '#6C8EBF', '#82B366', '#9673A6'])\n",
    "ax.set_ylabel(\"Runtime (hours)\")\n",
    "ax.set_xlabel(\"Routing Step\")\n",
    "ax.set_title('Routing Runtime of Industrial Designs')\n",
    "ax.set_xticklabels(['Global Routing', 'Detailed Routing'], rotation=0)\n",
    "\n",
    "plt.axhline(y=4.3, xmin=0.13, xmax=0.48, color='red', linestyle='--', linewidth=2)\n",
    "plt.annotate('', (0.47, 4.3), (0.47, 96.4), arrowprops={'arrowstyle': '<-', 'linewidth': 1.5, 'color': 'red'})\n",
    "plt.axhline(y=96.4, xmin=0.48, xmax=0.87, color='red', linestyle='--', linewidth=2)\n",
    "plt.text(0.2, 50, '≈22.4×', fontsize=12, color='red')\n",
    "\n",
    "plt.axhline(y=2.1, xmin=0.19, xmax=0.7, color='blue', linestyle='--', linewidth=2)\n",
    "plt.annotate('', (0.9, 2.1), (0.9, 28.5), arrowprops={'arrowstyle': '<-', 'linewidth': 1.5, 'color': 'blue'})\n",
    "plt.axhline(y=28.5, xmin=0.7, xmax=0.81, color='blue', linestyle='--', linewidth=2)\n",
    "plt.text(0.62, 15, '≈13.5×', fontsize=12, color='blue')\n",
    "\n",
    "plt.xlim(-0.5, 1.5)\n",
    "plt.legend(loc='upper left')\n",
    "\n",
    "plt.show()\n",
    "# plt.savefig('RoutingRuntimeIndustrial.pdf')"
   ]
  },
  {
   "cell_type": "markdown",
   "id": "64b688e1-2d8b-4544-8d6c-1c3fbb8daa2a",
   "metadata": {},
   "source": [
    "# Other Ideas"
   ]
  },
  {
   "cell_type": "code",
   "execution_count": null,
   "id": "56ad00be",
   "metadata": {},
   "outputs": [],
   "source": [
    "# Plot avg IDR short (considering full routed circuits only)\n",
    "idrShort = []\n",
    "for x in range(70, 91):\n",
    "  tempDf = df.loc[df['Design'].str.contains(str(x))].copy()\n",
    "  tempDf = tempDf.loc[tempDf['FDRTotal'] == 0]\n",
    "  avgIDRShort = sum(tempDf['IDRShort']/len(tempDf))\n",
    "  idrShort.append(avgIDRShort)\n",
    "    \n",
    "plt.plot([y for y in range(70, 91)], idrShort, color = 'r')\n",
    "plt.xlabel(\"Design Density (Row Utilization %)\")\n",
    "plt.ylabel(\"Initial Detailed Routing Short Violations (IDRV)\")\n",
    "plt.title('Average IDR Short x Row Utilization (Only fully routable circuits)')"
   ]
  },
  {
   "cell_type": "code",
   "execution_count": null,
   "id": "e0532a2c",
   "metadata": {},
   "outputs": [],
   "source": [
    "# Plot avg IDR short (considering full routed circuits only)\n",
    "fdrRuntime = []\n",
    "for x in range(70, 91):\n",
    "  tempDf = df.loc[df['Design'].str.contains(str(x))].copy()\n",
    "  tempDf = tempDf.loc[tempDf['FDRTotal'] == 0]\n",
    "  fdr = sum(tempDf['FDR']/len(tempDf))\n",
    "  fdrRuntime.append(fdr)\n",
    "\n",
    "plt.plot([y for y in range(70, 91)], fdrRuntime, color = 'r')\n",
    "plt.xlabel(\"Design Density (Row Utilization %)\")\n",
    "plt.ylabel(\"Runtime (seconds)\")\n",
    "plt.title('Average Runtime to complete routing (Only fully routable circuits)')"
   ]
  },
  {
   "cell_type": "markdown",
   "id": "454b8cde-0278-4554-b8d8-d581b2ddfb88",
   "metadata": {},
   "source": [
    "# Related Works"
   ]
  },
  {
   "cell_type": "code",
   "execution_count": null,
   "id": "95767987-dde6-47cf-82d3-5d3ad327ff1a",
   "metadata": {},
   "outputs": [],
   "source": [
    "works = {\n",
    "         '\\cite{hung2023drc}':{'tp':683142, 'tn':51358028, 'fp':164763, 'fn':195806},# DRC Violation Prediction After Global Route_Through Convolutional Neural Network\n",
    "         '\\cite{tabrizi2019eh}':{'tp':4343, 'tn':225688, 'fp':10990, 'fn':102},# Eh? predictor: A deep learning framework to identify detailed routing short violations from a placed netlist\n",
    "        }\n",
    "\n",
    "# Transforming Global Routing Report into DRC Violation Map with Convolutional Neural Network\n",
    "# DRC Violation Prediction with Pre-global-routing Features Through Convolutional Neural Network\n",
    "# DRC Violation Prediction After Global Route Through Convolutional Neural Network"
   ]
  },
  {
   "cell_type": "code",
   "execution_count": null,
   "id": "4851592f-9aba-478f-9fa0-af6386b5854c",
   "metadata": {},
   "outputs": [],
   "source": [
    "work = works['\\cite{hung2023drc}']\n",
    "# work = works['\\cite{tabrizi2019eh}']\n",
    "print(getMetrics(work['tp'], work['tn'], work['fp'], work['fn']))\n",
    "# Warning these results are not in percentage"
   ]
  },
  {
   "cell_type": "code",
   "execution_count": null,
   "id": "c3956b92-850b-4417-8be9-3610cc566fdb",
   "metadata": {},
   "outputs": [],
   "source": [
    "#Our ICECS\n",
    "# Precision (PPV) and Recall (Sensitivity, TPR)\n",
    "precision = 0.9799    # Replace with your actual precision\n",
    "recall = 0.9316     # Replace with your actual recall\n",
    "\n",
    "# Prevalence of Positive Class (Assuming you have this value)\n",
    "prevalence_positive = 0.4 # Guess\n",
    "\n",
    "# Calculate Prevalence of Negative Class\n",
    "prevalence_negative = 1 - prevalence_positive\n",
    "\n",
    "# Calculate Specificity (TNR)\n",
    "specificity = (precision * prevalence_negative) / (precision * prevalence_negative + (1 - recall) * prevalence_positive)\n",
    "gmean = math.sqrt(recall * specificity)\n",
    "print('specificity',specificity,'sensitivity',recall,'gmean',gmean)"
   ]
  },
  {
   "cell_type": "code",
   "execution_count": null,
   "id": "d105cdfc-c76a-4051-b8f0-ebcea4f31b95",
   "metadata": {},
   "outputs": [],
   "source": [
    "# lin2023drc # DRC Violation Prediction with Pre-global-routing Features Through Convolutional Neural Network\n",
    "# Positive Recall (TPR for the positive class) -> Recall/sensitivity\n",
    "sensitivity = 0.7901\n",
    "# Negative Recall (TNR for the negative class) -> Specificity\n",
    "specificity = 0.9963\n",
    "#TODO compute gmean\n",
    "gmean = math.sqrt(sensitivity * specificity)\n",
    "print('specificity',specificity,'sensitivity',sensitivity,'gmean',gmean)"
   ]
  },
  {
   "cell_type": "code",
   "execution_count": null,
   "id": "e32e953c-5f15-4f46-9d5f-e0f3d0a03990",
   "metadata": {},
   "outputs": [],
   "source": [
    "# soh vai faltar o J-Net (liang2020drc)\n",
    "\n",
    "# Se achar que faltou algo adicionar:\n",
    "# Transforming Global Routing Report into DRC Violation Map with Convolutional Neural Network"
   ]
  },
  {
   "cell_type": "code",
   "execution_count": null,
   "id": "354d463e-bd5f-4b8f-9a55-735ab1f4f210",
   "metadata": {},
   "outputs": [],
   "source": [
    "# lin2023drc # DRC Violation Prediction with Pre-global-routing Features Through Convolutional Neural Network\n",
    "total= 7146353\n",
    "pos = 133251\n",
    "prevalence = (pos/total)*100\n",
    "prevalence"
   ]
  },
  {
   "cell_type": "code",
   "execution_count": null,
   "id": "3ffa0793-0d74-4872-b37a-83e76f101cfd",
   "metadata": {},
   "outputs": [],
   "source": [
    "# Ours total prevalence %\n",
    "0.022565595314356077"
   ]
  }
 ],
 "metadata": {
  "kernelspec": {
   "display_name": "Tensorflow",
   "language": "python",
   "name": "tensorflow"
  },
  "language_info": {
   "codemirror_mode": {
    "name": "ipython",
    "version": 3
   },
   "file_extension": ".py",
   "mimetype": "text/x-python",
   "name": "python",
   "nbconvert_exporter": "python",
   "pygments_lexer": "ipython3",
   "version": "3.12.4"
  }
 },
 "nbformat": 4,
 "nbformat_minor": 5
}
