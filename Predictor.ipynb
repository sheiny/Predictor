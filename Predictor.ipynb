{
 "cells": [
  {
   "cell_type": "markdown",
   "metadata": {},
   "source": [
    "# Links\n",
    "\n",
    "* Good Readings\n",
    "    + Good reading about Standardization: https://sebastianraschka.com/Articles/2014_about_feature_scaling.html\n",
    "    + Standardization vs normalization: https://towardsdatascience.com/normalization-vs-standardization-quantitative-analysis-a91e8a79cebf\n",
    "    + Scaling: https://scikit-learn.org/stable/modules/preprocessing.html\n",
    "    + https://machinelearningmastery.com/how-to-configure-the-number-of-layers-and-nodes-in-a-neural-network/\n",
    "    + How to evaluate the model: https://machinelearningmastery.com/evaluate-skill-deep-learning-models/\n",
    "    + https://www.microsoft.com/en-us/research/blog/three-mysteries-in-deep-learning-ensemble-knowledge-distillation-and-self-distillation/\n",
    "    + https://towardsdatascience.com/how-to-handle-large-datasets-in-python-with-pandas-and-dask-34f43a897d55\n",
    "    + Batch size: https://machinelearningmastery.com/how-to-control-the-speed-and-stability-of-training-neural-networks-with-gradient-descent-batch-size/"
   ]
  },
  {
   "cell_type": "markdown",
   "metadata": {},
   "source": [
    "# How to run: packages to install\n",
    "\n",
    "    0- conda install nb_conda\n",
    "    1- conda install matplotlib \n",
    "    2- conda install tensorflow\n",
    "    3- conda install scikit-learn \n",
    "    4- conda install seaborn\n",
    "        \n",
    "    Run all initialization cells.\n",
    "    After that select a dataset to load a learning model.\n",
    "    Finally train and test it."
   ]
  },
  {
   "cell_type": "markdown",
   "metadata": {},
   "source": [
    "# Download and extract dataset"
   ]
  },
  {
   "cell_type": "markdown",
   "metadata": {},
   "source": [
    "https://drive.google.com/file/d/1Jy3WVE0lNN08zU7xY0q-gN9DLnEPiBvD/view?usp=sharing"
   ]
  },
  {
   "cell_type": "markdown",
   "metadata": {},
   "source": [
    "# Imports"
   ]
  },
  {
   "cell_type": "code",
   "execution_count": null,
   "metadata": {
    "init_cell": true
   },
   "outputs": [],
   "source": [
    "import json\n",
    "import math\n",
    "import matplotlib\n",
    "import numpy as np\n",
    "import pandas as pd\n",
    "import seaborn\n",
    "import sklearn\n",
    "import sklearn.model_selection\n",
    "import sklearn.preprocessing\n",
    "import tensorflow as tf\n",
    "import random\n",
    "import pickle\n",
    "from keras.callbacks import CSVLogger"
   ]
  },
  {
   "cell_type": "markdown",
   "metadata": {},
   "source": [
    "# Hyperparameters"
   ]
  },
  {
   "cell_type": "code",
   "execution_count": null,
   "metadata": {
    "init_cell": true
   },
   "outputs": [],
   "source": [
    "# Neural networks are stochastic by design and that the source of randomness can be fixed to make results reproducible.\n",
    "# Therefore, the most robust way to report results and compare models is to repeat your experiment many times (30+) and use summary statistics.\n",
    "# Source: https://machinelearningmastery.com/reproducible-results-neural-networks-keras/\n",
    "# Fix random seed.\n",
    "#tf.random.set_seed(1234)\n",
    "#np.random.seed(1234) # Scikit Learn does not have its own global random state but uses the numpy random state instead.\n",
    "\n",
    "#CSV format\n",
    "placementFeatures = [\"#Cells\", \"#CellPins\", \"#Macros\", \"#MacroPins\", \"#PassingNets\",\n",
    "                     \"TileArea\", \"CellDensity\", \"MacroDensity\", \"MacroPinDensity\",\n",
    "                     \"Layer1BlkgDensity\", \"Layer2BlkgDensity\", \"Layer1PinDensity\", \"Layer2PinDensity\"]\n",
    "\n",
    "placementNeighborFeatures = [\"NeighborTileArea\", \"NeighborCellArea\", \"NeighborL1PinArea\", \"NeighborL2PinArea\",\n",
    "                             \"NeighborL1BlkArea\", \"NeighborL2BlkArea\", \"NeighborMacroArea\",\n",
    "                             \"NeighborMacroPinArea\", \"#NeighborCells\", \"#NeighborCellPins\", \"#NeighborMacros\",\n",
    "                             \"#NeighborMacroPins\", \"#NeighborPassingNets\"]\n",
    "\n",
    "GRFeatures = [\"#VerticalOverflow\", \"#VerticalRemain\", \"#VerticalTracks\",\n",
    "              \"#HorizontalOverflow\", \"#HorizontalRemain\", \"#HorizontalTracks\"]\n",
    "\n",
    "GRNeighborFeatures = [\"#NeighborVerticalOverflow\", \"#NeighborVerticalRemain\", \"#NeighborVerticalTracks\",\n",
    "                      \"#NeighborHorizontalOverflow\", \"#NeighborHorizontalRemain\", \"#NeighborHorizontalTracks\"]\n",
    "\n",
    "features = placementFeatures\n",
    "features.extend(placementNeighborFeatures)\n",
    "#features.extend(GRFeatures)\n",
    "#features.extend(GRNeighborFeatures)\n",
    "\n",
    "AllDRVTypes = [\"AdjacentCutSpacing\", \"SameLayerCutSpacing\", \"EndOfLine\", \"FloatingPatch\", \"MinArea\", \"MinWidth\",\n",
    "  \"NonSuficientMetalOverlap\", \"CutShort\", \"MetalShort\", \"OutOfDieShort\", \"CornerSpacing\", \"ParallelRunLength\"]\n",
    "\n",
    "SelectedDRVTypes = [\"CutShort\", \"MetalShort\"]\n",
    "\n",
    "label_name = \"HasDetailedRoutingViolation\"\n",
    "\n",
    "# Benchmarks\n",
    "ispd18 = [\"ispd18_test\"+str(x) for x in range(1, 11)]\n",
    "# ispd18.extend([\"ispd18_test5_metal5\", \"ispd18_test8_metal5\"])\n",
    "\n",
    "ispd19 = [\"ispd19_test\"+str(x) for x in range(1, 11)]\n",
    "# ispd19.extend([\"ispd19_test7_metal5\", \"ispd19_test8_metal5\", \"ispd19_test9_metal5\"])\n",
    "\n",
    "circuits = ispd19\n",
    "test_circuit = \"ispd19_test10\"\n",
    "if test_circuit in circuits:\n",
    "    circuits.remove(test_circuit)\n",
    "circuits.remove(\"ispd19_test4\")\n",
    "circuits.remove(\"ispd19_test5\")\n",
    "circuits.remove(\"ispd19_test9\")\n",
    "\n",
    "#circuits = [\"ispd19_test1\"]\n",
    "#test_circuit = \"ispd19_test1\"\n",
    "\n",
    "# Paths\n",
    "csv_path = \"./data/FirstIterationGCellCoords/\"\n",
    "# csv_path = \"./data/SecondIterationGCellCoords/\"\n",
    "# csv_path = \"./data/FirstIterationFixedBin/\"\n",
    "\n",
    "# batch_size = 2048\n",
    "# epochs = 300\n",
    "# learning_rate = 0.0045 # decayed every two epochs using an exponential rate of 0.94;\n",
    "\n",
    "batch_size = 32 # is important to ensure that each batch has a decent chance of containing a few positive samples\n",
    "epochs = 20\n",
    "learning_rate = 0.001 #Eh?Predictor=0.05, default=0.001\n",
    "#beta = 0.001 #regularization\n",
    "drop_out = 0.05 ##Eh?Predictor=0.05\n",
    "\n",
    "METRICS = [tf.keras.metrics.TruePositives(name='tp'),\n",
    "           tf.keras.metrics.FalsePositives(name='fp'),\n",
    "           tf.keras.metrics.TrueNegatives(name='tn'),\n",
    "           tf.keras.metrics.FalseNegatives(name='fn'),\n",
    "           tf.keras.metrics.BinaryAccuracy(name='accuracy'),\n",
    "           tf.keras.metrics.Precision(name='precision'),\n",
    "           tf.keras.metrics.Recall(name='recall'),\n",
    "           tf.keras.metrics.AUC(name='auc')]\n",
    "\n",
    "matplotlib.rcParams['figure.figsize'] = (12, 10)\n",
    "colors = matplotlib.pyplot.rcParams['axes.prop_cycle'].by_key()['color']"
   ]
  },
  {
   "cell_type": "markdown",
   "metadata": {},
   "source": [
    "# Data preprocessing and graph functions\n",
    "\n",
    "ATTENTION: If you want to deploy a model, it's critical that you preserve the preprocessing calculations.\n",
    "The easiest way to implement them as layers, and attach them to your model before export."
   ]
  },
  {
   "cell_type": "code",
   "execution_count": null,
   "metadata": {
    "init_cell": true
   },
   "outputs": [],
   "source": [
    "# The features will be rescaled so that they’ll have the properties of a standard normal distribution.\n",
    "# mean (μ) = 0\n",
    "# standard deviation (σ) = 1\n",
    "def standardize(train_array, val_array, test_array=None):\n",
    "    scaler = sklearn.preprocessing.StandardScaler()\n",
    "    train_array = scaler.fit_transform(train_array)\n",
    "    val_array = scaler.transform(val_array)\n",
    "    if test_array is not None:\n",
    "        test_array = scaler.transform(test_array)\n",
    "        return train_array, val_array, test_array\n",
    "    return train_array, val_array\n",
    "\n",
    "# Claculate weight for classes\n",
    "# Scaling by total/2 helps keep the loss to a similar magnitude.\n",
    "# The sum of the weights of all examples stays the same.\n",
    "def calculate_class_weights(df, label_name):\n",
    "    neg, pos = np.bincount(df[label_name])\n",
    "    total = neg + pos\n",
    "    print('Examples:\\n    Total: {}\\n    Positive: {} ({:.2f}% of total)\\n'.format(total, pos, 100 * pos / total))\n",
    "    weight_for_0 = (1 / neg)*(total)/2.0 \n",
    "    weight_for_1 = (1 / pos)*(total)/2.0\n",
    "    class_weight = {0: weight_for_0, 1: weight_for_1}\n",
    "    print('Weight for class 0: {:.2f}'.format(weight_for_0))\n",
    "    print('Weight for class 1: {:.2f}'.format(weight_for_1))\n",
    "    return class_weight, neg, pos"
   ]
  },
  {
   "cell_type": "markdown",
   "metadata": {},
   "source": [
    "# Some plot functions"
   ]
  },
  {
   "cell_type": "code",
   "execution_count": null,
   "metadata": {
    "init_cell": true
   },
   "outputs": [],
   "source": [
    "# plot the training loss and accuracy\n",
    "def plot_train(history):   \n",
    "    matplotlib.pyplot.style.use(\"ggplot\")\n",
    "    matplotlib.pyplot.figure()\n",
    "    matplotlib.pyplot.plot(np.arange(0, epochs), history.history[\"loss\"], label=\"train_loss\")\n",
    "    # matplotlib.pyplot.plot(np.arange(0, epochs), history.history[\"val_loss\"], label=\"val_loss\")\n",
    "    # matplotlib.pyplot.plot(np.arange(0, epochs), history.history[\"accuracy\"], label=\"train_acc\")\n",
    "    # matplotlib.pyplot.plot(np.arange(0, epochs), history.history[\"val_accuracy\"], label=\"val_acc\")\n",
    "    matplotlib.pyplot.title(\"Training Loss\")\n",
    "    matplotlib.pyplot.xlabel(\"Epoch #\")\n",
    "    matplotlib.pyplot.ylabel(\"Loss/Accuracy\")\n",
    "    matplotlib.pyplot.legend(loc=\"lower left\")\n",
    "    matplotlib.pyplot.show()\n",
    "    # matplotlib.pyplot.savefig(\"plot.png\")\n",
    "\n",
    "def plot_cm(labels, predictions, title=None, output_path=None, p=0.5):\n",
    "    cm = sklearn.metrics.confusion_matrix(labels, predictions > p)\n",
    "    matplotlib.pyplot.figure(figsize=(5,5))\n",
    "    seaborn.heatmap(cm, annot=True, fmt=\"d\")\n",
    "    if title == None:\n",
    "        matplotlib.pyplot.title('Confusion matrix')\n",
    "    else:\n",
    "        matplotlib.pyplot.title(title)\n",
    "    matplotlib.pyplot.ylabel('Actual label')\n",
    "    matplotlib.pyplot.xlabel('Predicted label')\n",
    "    if output_path != None:\n",
    "        matplotlib.pyplot.savefig(output_path)\n",
    "    else:\n",
    "        matplotlib.pyplot.show()\n",
    "    \n",
    "def calculate_metrics(model, results):\n",
    "    m = {}\n",
    "    for name, value in zip(model.metrics_names, results):\n",
    "        m[name] = value\n",
    "    if m['precision'] + m['recall'] != 0:\n",
    "        f_score = (2 * m['precision'] * m['recall'])/(m['precision'] + m['recall'])\n",
    "        m['F-score'] = f_score\n",
    "    sqrt = math.sqrt((m['tp']+m['fp'])*(m['tp']+m['fn'])*(m['tn']+m['fp'])*(m['tn']+m['fn']))\n",
    "    if sqrt != 0:\n",
    "        mcc = (m['tp'] * m['tn'] - m['fp'] * m['fn'])/sqrt\n",
    "        m['MCC'] = mcc\n",
    "    return m\n",
    "\n",
    "def print_metrics(metrics):\n",
    "    print(int(metrics['tp']+metrics['fp']+metrics['tn']+metrics['fn']), int(metrics['fn']+metrics['tp']),\n",
    "         int(metrics['fp']+metrics['tn']), int(metrics['tp']), int(metrics['tn']), int(metrics['fp']), int(metrics['fn']),\n",
    "         round(metrics['precision'], 2), round(metrics['accuracy'], 2), round(metrics['F-score'], 2), round(metrics['MCC'], 2))\n",
    "#     for x, y in metrics.items():\n",
    "#         print(x,':', round(y, 2))\n",
    "        \n",
    "\n",
    "def print_train(history):\n",
    "    print(\"loss:\", history.history[\"loss\"])\n",
    "    print(\"accuracy:\", history.history[\"accuracy\"])\n",
    "    print(\"tp:\", history.history[\"tp\"])\n",
    "    print(\"fp:\", history.history[\"fp\"])\n",
    "    print(\"tn:\", history.history[\"tn\"])\n",
    "    print(\"fn:\", history.history[\"fn\"])\n",
    "    print(\"precision:\", history.history[\"precision\"])\n",
    "    print(\"recall\", history.history[\"recall\"])"
   ]
  },
  {
   "cell_type": "markdown",
   "metadata": {},
   "source": [
    "# Load Training Data From ICCAD19"
   ]
  },
  {
   "cell_type": "code",
   "execution_count": null,
   "metadata": {},
   "outputs": [],
   "source": [
    "test_df = pd.DataFrame()\n",
    "\n",
    "dataframes = []\n",
    "dataframes = [pd.read_csv(csv_path+circuit+\".csv\", dtype=np.float32) for circuit in circuits]\n",
    "test_df = pd.read_csv(csv_path+test_circuit+\".csv\", dtype=np.float32)\n",
    "    \n",
    "#merge all DataFrames into a single one\n",
    "df = pd.concat(dataframes, ignore_index=True)\n",
    "#save some memory\n",
    "dataframes.clear()\n",
    "\n",
    "# Remove NodeIDs (debug info)\n",
    "df = df.drop(columns=[\"NodeID\"])\n",
    "test_df = test_df.drop(columns=[\"NodeID\"])\n",
    "\n",
    "# Clear all DRV columns\n",
    "df['HasDetailedRoutingViolation'] = False\n",
    "test_df['HasDetailedRoutingViolation'] = False\n",
    "# Filter for selected DRVs\n",
    "for drv in SelectedDRVTypes:\n",
    "    df['HasDetailedRoutingViolation'] = df['HasDetailedRoutingViolation'] | df[drv]\n",
    "    test_df['HasDetailedRoutingViolation'] = test_df['HasDetailedRoutingViolation'] | test_df[drv]\n",
    "\n",
    "df = df.drop(columns=AllDRVTypes)\n",
    "test_df = test_df.drop(columns=AllDRVTypes)\n",
    "\n",
    "# Remove GR info when not selected\n",
    "if GRFeatures[0] not in features:\n",
    "    df = df.drop(columns=GRFeatures)\n",
    "    df = df.drop(columns=GRNeighborFeatures)\n",
    "    test_df = test_df.drop(columns=GRFeatures)\n",
    "    test_df = test_df.drop(columns=GRNeighborFeatures)\n",
    "\n",
    "# Split 80/20 (train 80% test 20%)\n",
    "train_df, val_df = sklearn.model_selection.train_test_split(df, test_size=0.2)\n",
    "\n",
    "# Build np arrays of labels and features.\n",
    "train_labels = np.array(train_df.pop(label_name))\n",
    "val_labels = np.array(val_df.pop(label_name))\n",
    "test_labels = np.array(test_df.pop(label_name))\n",
    "train_array = np.array(train_df)\n",
    "val_array = np.array(val_df)\n",
    "test_array = np.array(test_df)\n",
    "\n",
    "# Scale\n",
    "train_array, val_array, test_array = standardize(train_array, val_array, test_array)\n",
    "\n",
    "# Claculate weight for classes\n",
    "class_weight, neg, pos = calculate_class_weights(df, label_name)"
   ]
  },
  {
   "cell_type": "markdown",
   "metadata": {},
   "source": [
    "# Load EhPredictor's dataset"
   ]
  },
  {
   "cell_type": "code",
   "execution_count": null,
   "metadata": {},
   "outputs": [],
   "source": [
    "df = pd.read_csv(\"./data/ISPD14/EhPredictorISPD14.csv\")\n",
    "\n",
    "# drop l53 because is always zero\n",
    "df.pop('l53')\n",
    "df.pop('normal')\n",
    "\n",
    "# Instead of having the number of shorts, use them as a boolean\n",
    "df.loc[df['short'] > 0, 'short'] = 1\n",
    "\n",
    "# Convert to log-space. l9 l43 l45 l52 l51\n",
    "log_cols = ['l9', 'l43', 'l45', 'l52', 'l51']\n",
    "eps=0.001 # 0 => 0.1¢\n",
    "for col in log_cols:\n",
    "    df[col] = np.log(df[col] + eps)\n",
    "\n",
    "# CSV organization:\n",
    "# des_perf_1_dataset=all_dataset[0:5476,:]\n",
    "# des_perf_a_dataset=all_dataset[5476:16928,:]\n",
    "# des_perf_b_dataset=all_dataset[16928:26928,:]\n",
    "# fft_1_dataset=all_dataset[26928:28864,:]\n",
    "# fft_2_dataset=all_dataset[28864:32113,:]\n",
    "# fft_a_dataset=all_dataset[32113:38604,:]\n",
    "# fft_b_dataset=all_dataset[38604:44375,:]\n",
    "# matrix_mult_1_dataset=all_dataset[44375:52656,:]\n",
    "# matrix_mult_a_dataset=all_dataset[52656:69168,:]\n",
    "# matrix_mult_b_dataset=all_dataset[69168:90601,:]\n",
    "# pci_bridge32_a_dataset=all_dataset[90601:94170,:]\n",
    "# pci_bridge32_b_dataset=all_dataset[94170:103961,:]\n",
    "# superblue11_a_dataset=all_dataset[103961:175113,:]\n",
    "# superblue12_dataset=all_dataset[175113:241123,:]\n",
    "\n",
    "# Test circuits: mgc fft_2\n",
    "test_df = df.iloc[28864:32113]\n",
    "df2 = df[0:28864]\n",
    "df3 = df[32113:]\n",
    "df = pd.concat([df2, df3])\n",
    "\n",
    "# Use a utility from sklearn to split and shuffle our dataset.\n",
    "train_df, val_df = sklearn.model_selection.train_test_split(df, test_size=0.2)\n",
    "\n",
    "# Form np arrays of labels and features.\n",
    "train_labels = np.array(train_df.pop('short'))\n",
    "val_labels = np.array(val_df.pop('short'))\n",
    "test_labels = np.array(test_df.pop('short'))\n",
    "\n",
    "train_array = np.array(train_df)\n",
    "val_array = np.array(val_df)\n",
    "test_array = np.array(test_df)\n",
    "\n",
    "# Scaling\n",
    "train_array, val_array, test_array = standardize(train_array, val_array, test_array)\n",
    "\n",
    "# Claculate weight for classes\n",
    "class_weight, neg, pos = calculate_class_weights(df, 'short')"
   ]
  },
  {
   "cell_type": "markdown",
   "metadata": {},
   "source": [
    "# DNN 50/50"
   ]
  },
  {
   "cell_type": "code",
   "execution_count": null,
   "metadata": {},
   "outputs": [],
   "source": [
    "def make_model(metrics = METRICS, output_bias=None):\n",
    "    if output_bias is not None:\n",
    "        output_bias = tf.keras.initializers.Constant(output_bias)\n",
    "    model = tf.keras.Sequential([tf.keras.layers.Dense(50, activation='relu'),\n",
    "                                 tf.keras.layers.Dropout(drop_out),\n",
    "                                 tf.keras.layers.Dense(50, activation='relu'),\n",
    "                                 tf.keras.layers.Dropout(drop_out),\n",
    "                                 tf.keras.layers.Dense(1, activation='sigmoid')])\n",
    "    model.compile(optimizer=tf.keras.optimizers.Adam(lr=learning_rate),\n",
    "                  loss=tf.keras.losses.BinaryCrossentropy(),\n",
    "                  metrics=metrics)\n",
    "    return model"
   ]
  },
  {
   "cell_type": "markdown",
   "metadata": {},
   "source": [
    "# Neural Network"
   ]
  },
  {
   "cell_type": "code",
   "execution_count": null,
   "metadata": {},
   "outputs": [],
   "source": [
    "def make_model(metrics = METRICS, output_bias=None, lr=learning_rate):\n",
    "    if output_bias is not None:\n",
    "        output_bias = tf.keras.initializers.Constant(output_bias)\n",
    "    model = tf.keras.Sequential([tf.keras.layers.Dense(20,\n",
    "                                                       activation='relu', # Relu throw away negative values\n",
    "                                                       kernel_regularizer=tf.keras.regularizers.l2(beta)),\n",
    "                                 tf.keras.layers.Dropout(drop_out),\n",
    "                                 tf.keras.layers.Dense(1, activation='sigmoid', bias_initializer=output_bias)])\n",
    "    model.compile(optimizer=tf.keras.optimizers.Adam(lr=learning_rate),\n",
    "                  loss=tf.keras.losses.BinaryCrossentropy(),\n",
    "                  metrics=metrics)\n",
    "    return model"
   ]
  },
  {
   "cell_type": "markdown",
   "metadata": {},
   "source": [
    "# Save/Load Model"
   ]
  },
  {
   "cell_type": "code",
   "execution_count": null,
   "metadata": {},
   "outputs": [],
   "source": [
    "# initial_bias = np.log([pos/neg])\n",
    "# model = make_model(output_bias = initial_bias)\n",
    "# model.load_weights('path_to_file')\n",
    "\n",
    "# model.save_weights('path_to_file')"
   ]
  },
  {
   "cell_type": "markdown",
   "metadata": {},
   "source": [
    "# Train"
   ]
  },
  {
   "cell_type": "code",
   "execution_count": null,
   "metadata": {},
   "outputs": [],
   "source": [
    "# Model weights are saved at the end of every epoch, if it's the best seen so far.\n",
    "model_name = 'dnn50_50'\n",
    "checkpoint_filepath = \"./checkpoints/\"\n",
    "checkpoint_callback = tf.keras.callbacks.ModelCheckpoint(filepath=checkpoint_filepath)\n",
    "\n",
    "csv_logger = CSVLogger(\"model_history_log.csv\", append=True)\n",
    "\n",
    "dataset = tf.data.Dataset.from_tensor_slices((train_array, train_labels))\n",
    "train_dataset = dataset.shuffle(len(train_array)).batch(batch_size)\n",
    "\n",
    "initial_bias = np.log([pos/neg])\n",
    "\n",
    "model = make_model(output_bias = initial_bias)\n",
    "train_history = model.fit(train_dataset,\n",
    "                          batch_size=batch_size,\n",
    "                          validation_data=(val_array, val_labels),\n",
    "                          class_weight=class_weight,\n",
    "                          epochs=epochs,\n",
    "                          callbacks=[checkpoint_callback, csv_logger])\n",
    "\n",
    "with open('./checkpoints/history', 'wb') as file_pi:\n",
    "    pickle.dump(train_history.history, file_pi)\n",
    "model.save_weights('./checkpoints/'+model_name)"
   ]
  },
  {
   "cell_type": "markdown",
   "metadata": {},
   "source": [
    "# Training performance"
   ]
  },
  {
   "cell_type": "code",
   "execution_count": null,
   "metadata": {
    "scrolled": false
   },
   "outputs": [],
   "source": [
    "plot_train(train_history)\n",
    "print_train(train_history)\n",
    "\n",
    "baseline_results = model.evaluate(train_array, train_labels, batch_size=batch_size, verbose=0)\n",
    "metrics = calculate_metrics(model, baseline_results)\n",
    "print_metrics(metrics)\n",
    "train_predictions_baseline = model.predict(train_array, batch_size=batch_size)\n",
    "plot_cm(train_labels, train_predictions_baseline, \"Training Confusion Matrix\")"
   ]
  },
  {
   "cell_type": "markdown",
   "metadata": {},
   "source": [
    "# Test and check performance"
   ]
  },
  {
   "cell_type": "code",
   "execution_count": null,
   "metadata": {
    "scrolled": false
   },
   "outputs": [],
   "source": [
    "baseline_results = model.evaluate(test_array, test_labels, batch_size=batch_size, verbose=0)\n",
    "metrics = calculate_metrics(model, baseline_results)\n",
    "print_metrics(metrics)\n",
    "test_predictions_baseline = model.predict(test_array, batch_size=batch_size)\n",
    "plot_cm(test_labels, test_predictions_baseline, \"Test Confusion Matrix\")"
   ]
  },
  {
   "cell_type": "markdown",
   "metadata": {},
   "source": [
    "# Save Predicted Node IDs to draw"
   ]
  },
  {
   "cell_type": "code",
   "execution_count": null,
   "metadata": {},
   "outputs": [],
   "source": [
    "# Save all predited node ids\n",
    "# This can be used to plot the violating bins inside C++ OpenROAD\n",
    "violations = test_predictions_baseline > 0.5\n",
    "violating_ids = []\n",
    "i = 0\n",
    "for x in zip (violations, test_df.iterrows()):\n",
    "    if x[0]:\n",
    "        violating_ids.append(int(x[1][0]))\n",
    "with open(test_circuit+'violating_nodes.txt', 'w') as f:\n",
    "    for item in violating_ids:\n",
    "        f.write(\"%s\\n\" % item)"
   ]
  }
 ],
 "metadata": {
  "kernelspec": {
   "display_name": "Python 3",
   "language": "python",
   "name": "python3"
  },
  "language_info": {
   "codemirror_mode": {
    "name": "ipython",
    "version": 3
   },
   "file_extension": ".py",
   "mimetype": "text/x-python",
   "name": "python",
   "nbconvert_exporter": "python",
   "pygments_lexer": "ipython3",
   "version": "3.8.5"
  }
 },
 "nbformat": 4,
 "nbformat_minor": 4
}
